{
 "cells": [
  {
   "cell_type": "markdown",
   "metadata": {},
   "source": [
    "# Web Scraping with Beautiful Soup - Lab"
   ]
  },
  {
   "cell_type": "markdown",
   "metadata": {},
   "source": [
    "## Introduction\n",
    "\n",
    "Now that you've read and seen some docmentation regarding the use of Beautiful Soup, its time to practice and put that to work! In this lab you'll formalize some of our example code into functions and scrape the lyrics from an artist of your choice."
   ]
  },
  {
   "cell_type": "markdown",
   "metadata": {},
   "source": [
    "## Objectives\n",
    "You will be able to:\n",
    "* Scrape Static webpages\n",
    "* Select specific elements from the DOM"
   ]
  },
  {
   "cell_type": "markdown",
   "metadata": {},
   "source": [
    "## Link Scraping\n",
    "\n",
    "Write a function to collect the links to each of the song pages from a given artist page."
   ]
  },
  {
   "cell_type": "code",
   "execution_count": 7,
   "metadata": {},
   "outputs": [
    {
     "name": "stdout",
     "output_type": "stream",
     "text": [
      "Requirement already satisfied: bs4 in /opt/conda/envs/learn-env/lib/python3.6/site-packages (0.0.1)\n",
      "Requirement already satisfied: beautifulsoup4 in /opt/conda/envs/learn-env/lib/python3.6/site-packages (from bs4) (4.7.1)\n",
      "Requirement already satisfied: soupsieve>=1.2 in /opt/conda/envs/learn-env/lib/python3.6/site-packages (from beautifulsoup4->bs4) (1.7.3)\n",
      "\u001b[33mYou are using pip version 10.0.1, however version 19.0.1 is available.\n",
      "You should consider upgrading via the 'pip install --upgrade pip' command.\u001b[0m\n"
     ]
    },
    {
     "data": {
      "text/plain": [
       "[('Intro',\n",
       "  '../lyrics/drake/intro.html',\n",
       "  'mixtape: \"Room For Improvement\" (2006)'),\n",
       " ('Special',\n",
       "  '../lyrics/drake/special.html',\n",
       "  'mixtape: \"Room For Improvement\" (2006)'),\n",
       " ('Do What You Do',\n",
       "  '../lyrics/drake/dowhatyoudo.html',\n",
       "  'mixtape: \"Room For Improvement\" (2006)'),\n",
       " ('Money (Remix)',\n",
       "  '../lyrics/drake/moneyremix.html',\n",
       "  'mixtape: \"Room For Improvement\" (2006)'),\n",
       " ('A.M. 2 P.M.',\n",
       "  '../lyrics/drake/am2pm.html',\n",
       "  'mixtape: \"Room For Improvement\" (2006)'),\n",
       " ('City Is Mine',\n",
       "  '../lyrics/drake/cityismine.html',\n",
       "  'mixtape: \"Room For Improvement\" (2006)'),\n",
       " (\"Bad Meanin' Good\",\n",
       "  '../lyrics/drake/badmeaningood.html',\n",
       "  'mixtape: \"Room For Improvement\" (2006)'),\n",
       " ('Thrill Is Gone',\n",
       "  '../lyrics/drake/thrillisgone.html',\n",
       "  'mixtape: \"Room For Improvement\" (2006)'),\n",
       " ('Make Things Right',\n",
       "  '../lyrics/drake/makethingsright.html',\n",
       "  'mixtape: \"Room For Improvement\" (2006)'),\n",
       " ('Video Girl',\n",
       "  '../lyrics/drake/videogirl.html',\n",
       "  'mixtape: \"Room For Improvement\" (2006)'),\n",
       " ('Come Winter',\n",
       "  '../lyrics/drake/comewinter.html',\n",
       "  'mixtape: \"Room For Improvement\" (2006)'),\n",
       " ('Extra Special',\n",
       "  '../lyrics/drake/extraspecial.html',\n",
       "  'mixtape: \"Room For Improvement\" (2006)'),\n",
       " ('About The Game (Remix)',\n",
       "  '../lyrics/drake/aboutthegameremix.html',\n",
       "  'mixtape: \"Room For Improvement\" (2006)'),\n",
       " ('All This Love',\n",
       "  '../lyrics/drake/allthislove.html',\n",
       "  'mixtape: \"Room For Improvement\" (2006)'),\n",
       " (\"A Scorpio's Mind\",\n",
       "  '../lyrics/drake/ascorpiosmind.html',\n",
       "  'mixtape: \"Room For Improvement\" (2006)'),\n",
       " ('S.T.R.E.S.S.',\n",
       "  '../lyrics/drake/stress.html',\n",
       "  'mixtape: \"Room For Improvement\" (2006)'),\n",
       " ('Try Harder',\n",
       "  '../lyrics/drake/tryharder.html',\n",
       "  'mixtape: \"Room For Improvement\" (2006)'),\n",
       " ('Kick, Push (Remix)',\n",
       "  '../lyrics/drake/kickpushremix.html',\n",
       "  'mixtape: \"Room For Improvement\" (2006)'),\n",
       " ('', None, 'mixtape: \"Room For Improvement\" (2006)'),\n",
       " ('City Is Mine',\n",
       "  '../lyrics/drake/cityismine.html',\n",
       "  'mixtape: \"Room For Improvement\" (2006)')]"
      ]
     },
     "execution_count": 7,
     "metadata": {},
     "output_type": "execute_result"
    }
   ],
   "source": [
    "#Starter Code\n",
    "!pip install bs4 \n",
    "from bs4 import BeautifulSoup\n",
    "import requests\n",
    "\n",
    "\n",
    "url = 'https://www.azlyrics.com/d/drake.html' #Put the URL of your AZLyrics Artist Page here!\n",
    "\n",
    "html_page = requests.get(url) #Make a get request to retrieve the page\n",
    "soup = BeautifulSoup(html_page.content, 'html.parser') #Pass the page contents to beautiful soup for parsing\n",
    "\n",
    "albums = soup.find_all(\"div\", class_=\"album\")\n",
    "\n",
    "#The example from our lecture/reading\n",
    "data = [] #Create a storage container\n",
    "for album_n in range(len(albums)):\n",
    "    #On the last album, we won't be able to look forward\n",
    "    if album_n == len(albums)-1:\n",
    "        cur_album = albums[album_n]\n",
    "        album_songs = cur_album.findNextSiblings('a')\n",
    "        for song in album_songs:\n",
    "            page = song.get('href')\n",
    "            title = song.text\n",
    "            album = cur_album.text\n",
    "            data.append((title, page, album))\n",
    "    else:\n",
    "        cur_album = albums[album_n]\n",
    "        next_album = albums[album_n+1]\n",
    "        saca = cur_album.findNextSiblings('a') #songs after current album\n",
    "        sbna = next_album.findPreviousSiblings('a') #songs before next album\n",
    "        album_songs = [song for song in saca if song in sbna] #album songs are those listed after the current album but before the next one!\n",
    "        for song in album_songs:\n",
    "            page = song.get('href')\n",
    "            title = song.text\n",
    "            album = cur_album.text\n",
    "            data.append((title, page, album))\n",
    "data[:20]"
   ]
  },
  {
   "cell_type": "markdown",
   "metadata": {},
   "source": [
    "## Text Scraping\n",
    "Write a secondary function that scrapes the lyrics for each song page."
   ]
  },
  {
   "cell_type": "code",
   "execution_count": 8,
   "metadata": {},
   "outputs": [
    {
     "data": {
      "text/plain": [
       "'<!DOCTYPE html>\\n<html lang=\"en\">\\n <head>\\n  <meta charset=\"utf-8\"/>\\n  <meta content=\"IE=edge\" http-equiv=\"X-UA-Compatible\"/>\\n  <meta content=\"width=device-width, initial-scale=1\" name=\"viewport\"/>\\n  <!-- The above 3 meta tags *must* come first in the head; any other head content must come *after* these tags -->\\n  <meta content=\"Drake lyrics - 311 song lyrics sorted by album, including &quot;God\\'s Plan&quot;, &quot;Nonstop&quot;, &quot;I\\'m Upset&quot;.\" name=\"description\"/>\\n  <meta content=\"Drake, Drake lyrics, discography, albums, songs\" name=\"keywords\"/>\\n  <meta content=\"noarchive\" name=\"robots\"/>\\n  <title>\\n   Drake Lyrics\\n  </title>\\n  <link href=\"https://maxcdn.bootstrapcdn.com/bootstrap/3.3.4/css/bootstrap.min.css\" rel=\"stylesheet\"/>\\n  <link href=\"//www.azlyrics.com/bsaz.css\" rel=\"stylesheet\"/>\\n  <!-- HTML5 shim and Respond.js for IE8 support of HTML5 elements and media queries -->\\n  <!--[if lt IE 9]>\\r\\n<script src=\"https://oss.maxcdn.com/html5shiv/3.7.2/html5shiv.min.js\"></script>\\r\\n<'"
      ]
     },
     "execution_count": 8,
     "metadata": {},
     "output_type": "execute_result"
    }
   ],
   "source": [
    "#Remember to open up the webpage in a browser and control-click/right-click and go to inspect!\n",
    "from bs4 import BeautifulSoup\n",
    "import requests\n",
    "\n",
    "#Example page\n",
    "url = 'https://www.azlyrics.com/d/drake.html'\n",
    "\n",
    "\n",
    "html_page = requests.get(url)\n",
    "soup = BeautifulSoup(html_page.content, 'html.parser')\n",
    "soup.prettify()[:1000]"
   ]
  },
  {
   "cell_type": "markdown",
   "metadata": {},
   "source": [
    "## Synthesizing\n",
    "Create a script using your two functions above to scrape all of the song lyrics for a given artist.\n"
   ]
  },
  {
   "cell_type": "code",
   "execution_count": null,
   "metadata": {},
   "outputs": [],
   "source": [
    "#Use this block for your code!"
   ]
  },
  {
   "cell_type": "markdown",
   "metadata": {},
   "source": [
    "## Visualizing\n",
    "Generate two bar graphs to compare lyrical changes for the artist of your chose. For example, the two bar charts could compare the lyrics for two different songs or two different albums."
   ]
  },
  {
   "cell_type": "code",
   "execution_count": null,
   "metadata": {},
   "outputs": [],
   "source": [
    "#Use this block for your code!"
   ]
  },
  {
   "cell_type": "markdown",
   "metadata": {},
   "source": [
    "## Level - Up\n",
    "\n",
    "Think about how you structured the data from your web scraper. Did you scrape the entire song lyrics verbatim? Did you simply store the words and their frequency counts, or did you do something else entirely? List out a few different options for how you could have stored this data. What are advantages and disadvantages of each? Be specific and think about what sort of analyses each representation would lend itself to."
   ]
  },
  {
   "cell_type": "code",
   "execution_count": null,
   "metadata": {},
   "outputs": [],
   "source": [
    "#Use this block for your code!"
   ]
  },
  {
   "cell_type": "markdown",
   "metadata": {},
   "source": [
    "## Summary"
   ]
  },
  {
   "cell_type": "markdown",
   "metadata": {},
   "source": [
    "Congratulations! You've now practiced your Beautiful Soup knowledge!"
   ]
  }
 ],
 "metadata": {
  "kernelspec": {
   "display_name": "Python 3",
   "language": "python",
   "name": "python3"
  },
  "language_info": {
   "codemirror_mode": {
    "name": "ipython",
    "version": 3
   },
   "file_extension": ".py",
   "mimetype": "text/x-python",
   "name": "python",
   "nbconvert_exporter": "python",
   "pygments_lexer": "ipython3",
   "version": "3.6.6"
  }
 },
 "nbformat": 4,
 "nbformat_minor": 2
}
